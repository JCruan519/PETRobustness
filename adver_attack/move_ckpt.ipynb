{
 "cells": [
  {
   "cell_type": "code",
   "execution_count": null,
   "metadata": {},
   "outputs": [],
   "source": [
    "### Move the best ckpt to target path ###\n",
    "import os\n",
    "import shutil\n",
    "\n",
    "# 定义根目录路径\n",
    "root_path = \"/media/ruanjiacheng/新加卷/ecodes/Prompt/CV/GIST_ALL/outputs_gistip_static_dp/[adaptformer,gistip]_4_0.5_0_1_0.5/vit_base_patch16_224_in21k/vtab\"\n",
    "\n",
    "# 子文件夹列表\n",
    "subfolders = [\"caltech101\", \"cifar100\", \"clevr_count\", \"clevr_dist\", \"diabetic_retinopathy\", \"dmlab\", \"dsprites_loc\", \"dsprites_ori\", \"dtd\", \"eurosat\", \"flowers102\", \"kitti\", \"patch_camelyon\", \"pets\", \"resisc45\", \"smallnorb_azi\", \"smallnorb_ele\", \"sun397\", \"svhn\"]\n",
    "\n",
    "# 遍历每个子文件夹\n",
    "for subfolder in subfolders:\n",
    "    subfolder_path = os.path.join(root_path, subfolder)\n",
    "    model_file = None\n",
    "\n",
    "    # 遍历子文件夹中的所有文件和目录\n",
    "    for dirpath, dirnames, filenames in os.walk(subfolder_path):\n",
    "        for filename in filenames:\n",
    "            # 检查是否是目标文件\n",
    "            if filename == \"model_best.pth.tar\":\n",
    "                model_file = os.path.join(dirpath, filename)\n",
    "                break\n",
    "        if model_file:\n",
    "            break\n",
    "\n",
    "    if model_file:\n",
    "        # 移动文件到对应的子目录中\n",
    "        destination = os.path.join(subfolder_path, \"model_best.pth.tar\")\n",
    "        shutil.move(model_file, destination)\n",
    "        print(f\"Moved {model_file} to {destination}\")\n",
    "    else:\n",
    "        print(f\"No model_best.pth.tar found in {subfolder_path}\")\n"
   ]
  }
 ],
 "metadata": {
  "kernelspec": {
   "display_name": "pt180",
   "language": "python",
   "name": "python3"
  },
  "language_info": {
   "codemirror_mode": {
    "name": "ipython",
    "version": 3
   },
   "file_extension": ".py",
   "mimetype": "text/x-python",
   "name": "python",
   "nbconvert_exporter": "python",
   "pygments_lexer": "ipython3",
   "version": "3.8.13"
  }
 },
 "nbformat": 4,
 "nbformat_minor": 2
}
