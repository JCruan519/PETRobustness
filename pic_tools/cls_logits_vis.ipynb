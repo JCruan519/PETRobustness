{
 "cells": [
  {
   "cell_type": "code",
   "execution_count": 1,
   "metadata": {},
   "outputs": [],
   "source": [
    "num_class = 37\n",
    "model_path = '/media/ruanjiacheng/新加卷/ecodes/Prompt/CV/KDPEFT/best_adapter_output/oxford_iiit_pet.pth.tar'\n",
    "img_dir = '/media/ruanjiacheng/新加卷/ecodes/Prompt/data/vtab-1k/oxford_iiit_pet/images/val200/000197.jpg'"
   ]
  },
  {
   "cell_type": "code",
   "execution_count": 2,
   "metadata": {},
   "outputs": [
    {
     "data": {
      "text/plain": [
       "(array([2., 0., 0., 1., 1., 0., 1., 1., 0., 2., 1., 1., 0., 0., 6., 2., 1.,\n",
       "        1., 0., 0., 1., 1., 1., 0., 1., 2., 0., 3., 1., 1., 1., 1., 0., 1.,\n",
       "        2., 0., 1.]),\n",
       " array([-3.96108747, -3.76961517, -3.57814288, -3.38667059, -3.19519806,\n",
       "        -3.00372577, -2.81225348, -2.62078118, -2.42930889, -2.2378366 ,\n",
       "        -2.04636431, -1.8548919 , -1.6634196 , -1.47194719, -1.2804749 ,\n",
       "        -1.08900261, -0.89753026, -0.70605797, -0.51458561, -0.32311329,\n",
       "        -0.13164099,  0.05983134,  0.25130367,  0.44277599,  0.63424832,\n",
       "         0.82572067,  1.01719296,  1.20866525,  1.40013766,  1.59160995,\n",
       "         1.78308225,  1.97455454,  2.16602683,  2.35749912,  2.54897165,\n",
       "         2.74044394,  2.93191624,  3.12338853]),\n",
       " <BarContainer object of 37 artists>)"
      ]
     },
     "execution_count": 2,
     "metadata": {},
     "output_type": "execute_result"
    },
    {
     "data": {
      "image/png": "[encoded data removed]",
      "text/plain": [
       "<Figure size 640x480 with 1 Axes>"
      ]
     },
     "metadata": {},
     "output_type": "display_data"
    }
   ],
   "source": [
    "import matplotlib.pyplot as plt\n",
    "from torchvision.transforms import Compose, Resize, ToTensor, Normalize\n",
    "import torch\n",
    "from PIL import Image\n",
    "import os\n",
    "import numpy as np\n",
    "\n",
    "from timm.models import create_model\n",
    "from models import vision_transformer_original_attvis\n",
    "from data import create_loader, create_dataset\n",
    "import cv2\n",
    "\n",
    "\n",
    "# 加载预训练的 ViT 模型\n",
    "model = create_model(\n",
    "    'vit_base_patch16_224_in21k',\n",
    "    pretrained=True,\n",
    "    num_classes=num_class,\n",
    "    scriptable=True)\n",
    "model = model.to('cuda')  # 将模型移动到CUDA设备上\n",
    "model.eval()\n",
    "\n",
    "\n",
    "# 图像预处理\n",
    "def preprocess_image(img_path):\n",
    "    transform = Compose([\n",
    "        Resize((224, 224)),\n",
    "        ToTensor(),\n",
    "        Normalize(mean=[0.485, 0.456, 0.406], std=[0.229, 0.224, 0.225]),\n",
    "    ])\n",
    "    image = Image.open(img_path).convert('RGB')\n",
    "    return transform(image).unsqueeze(0)\n",
    "\n",
    "    # 图片路径\n",
    "image_dir = img_dir\n",
    "inputs = preprocess_image(image_dir).cuda()\n",
    "\n",
    "\n",
    "# 前向传递\n",
    "with torch.no_grad():\n",
    "    x, last_hidden_state, attentions = model(inputs)\n",
    "\n",
    "cls_logits = x.detach().cpu().numpy().flatten()\n",
    "plt.hist(cls_logits, bins=num_class, alpha=0.7)\n"
   ]
  },
  {
   "cell_type": "code",
   "execution_count": 3,
   "metadata": {},
   "outputs": [
    {
     "name": "stdout",
     "output_type": "stream",
     "text": [
      "#---------- gist_Adapter wad used! ----------#\n",
      "#---------- gist_Adapter wad used! ----------#\n",
      "#---------- gist_Adapter wad used! ----------#\n",
      "#---------- gist_Adapter wad used! ----------#\n",
      "#---------- gist_Adapter wad used! ----------#\n",
      "#---------- gist_Adapter wad used! ----------#\n",
      "#---------- gist_Adapter wad used! ----------#\n",
      "#---------- gist_Adapter wad used! ----------#\n",
      "#---------- gist_Adapter wad used! ----------#\n",
      "#---------- gist_Adapter wad used! ----------#\n",
      "#---------- gist_Adapter wad used! ----------#\n",
      "#---------- gist_Adapter wad used! ----------#\n"
     ]
    },
    {
     "data": {
      "text/plain": [
       "(array([3., 1., 2., 4., 0., 1., 2., 1., 5., 2., 0., 2., 6., 2., 0., 2., 2.,\n",
       "        0., 0., 0., 0., 0., 1., 0., 0., 0., 0., 0., 0., 0., 0., 0., 0., 0.,\n",
       "        0., 0., 1.]),\n",
       " array([-5.45545149, -4.91183043, -4.36820936, -3.82458806, -3.28096676,\n",
       "        -2.7373457 , -2.19372439, -1.65010321, -1.10648203, -0.56286085,\n",
       "        -0.0192397 ,  0.52438146,  1.0680027 ,  1.61162388,  2.15524507,\n",
       "         2.69886613,  3.24248743,  3.78610849,  4.32972956,  4.8733511 ,\n",
       "         5.41697216,  5.96059322,  6.50421429,  7.04783583,  7.59145689,\n",
       "         8.13507843,  8.67869949,  9.22232056,  9.76594162, 10.30956268,\n",
       "        10.85318375, 11.39680481, 11.94042587, 12.48404789, 13.02766895,\n",
       "        13.57129002, 14.11491108, 14.65853214]),\n",
       " <BarContainer object of 37 artists>)"
      ]
     },
     "execution_count": 3,
     "metadata": {},
     "output_type": "execute_result"
    },
    {
     "data": {
      "image/png": "[encoded data removed]",
      "text/plain": [
       "<Figure size 640x480 with 1 Axes>"
      ]
     },
     "metadata": {},
     "output_type": "display_data"
    }
   ],
   "source": [
    "import matplotlib.pyplot as plt\n",
    "from torchvision.transforms import Compose, Resize, ToTensor, Normalize\n",
    "import torch\n",
    "from PIL import Image\n",
    "import os\n",
    "import numpy as np\n",
    "\n",
    "from timm.models import create_model\n",
    "from models import vision_transformer_gist_adapter_attvis\n",
    "from data import create_loader, create_dataset\n",
    "import cv2\n",
    "\n",
    "\n",
    "# 加载预训练的 ViT 模型\n",
    "model = create_model(\n",
    "    'vit_base_patch16_224_in21k',\n",
    "    pretrained=False,\n",
    "    num_classes=num_class,\n",
    "    scriptable=True,\n",
    "    checkpoint_path=model_path,\n",
    "    tuning_mode='gist_adapter')\n",
    "model = model.to('cuda')  # 将模型移动到CUDA设备上\n",
    "model.eval()\n",
    "\n",
    "\n",
    "# 图像预处理\n",
    "def preprocess_image(img_path):\n",
    "    transform = Compose([\n",
    "        Resize((224, 224)),\n",
    "        ToTensor(),\n",
    "        Normalize(mean=[0.485, 0.456, 0.406], std=[0.229, 0.224, 0.225]),\n",
    "    ])\n",
    "    image = Image.open(img_path).convert('RGB')\n",
    "    return transform(image).unsqueeze(0)\n",
    "\n",
    "    # 图片路径\n",
    "image_dir = img_dir\n",
    "inputs = preprocess_image(image_dir).cuda()\n",
    "\n",
    "\n",
    "# 前向传递\n",
    "with torch.no_grad():\n",
    "    x, last_hidden_state, attentions = model(inputs)\n",
    "\n",
    "cls_logits = x.detach().cpu().numpy().flatten()\n",
    "plt.hist(cls_logits, bins=num_class, alpha=0.7)"
   ]
  }
 ],
 "metadata": {
  "kernelspec": {
   "display_name": "pt20",
   "language": "python",
   "name": "python3"
  },
  "language_info": {
   "codemirror_mode": {
    "name": "ipython",
    "version": 3
   },
   "file_extension": ".py",
   "mimetype": "text/x-python",
   "name": "python",
   "nbconvert_exporter": "python",
   "pygments_lexer": "ipython3",
   "version": "3.8.13"
  },
  "orig_nbformat": 4
 },
 "nbformat": 4,
 "nbformat_minor": 2
}
