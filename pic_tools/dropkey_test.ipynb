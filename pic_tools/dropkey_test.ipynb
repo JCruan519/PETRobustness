{
 "cells": [
  {
   "cell_type": "code",
   "execution_count": 7,
   "metadata": {},
   "outputs": [],
   "source": [
    "import torch\n",
    "\n",
    "a = torch.rand(32, 197, 768)\n",
    "msk = torch.ones_like(a) * 0.5\n",
    "b = a + torch.bernoulli(msk) * -1e12\n",
    "b = b.softmax(dim=-1)\n"
   ]
  },
  {
   "cell_type": "code",
   "execution_count": null,
   "metadata": {},
   "outputs": [],
   "source": [
    "import torch\n",
    "import torch.nn as nn\n",
    "import torch.nn.functional as F\n",
    "\n",
    "class LearnableDropout(nn.Module):\n",
    "    def __init__(self, initial_p=0.5):\n",
    "        super(LearnableDropout, self).__init__()\n",
    "        # 初始化dropout率为一个可学习的参数，使用nn.Parameter包装\n",
    "        # 使用logit(initial_p)作为初始值，便于通过sigmoid激活保持在[0,1]区间\n",
    "        self.logit_p = nn.Parameter(torch.log(torch.tensor(initial_p / (1 - initial_p))))\n",
    "        \n",
    "    def forward(self, x):\n",
    "        if self.training:\n",
    "            # 使用sigmoid函数确保p值在0和1之间\n",
    "            p = torch.sigmoid(self.logit_p)\n",
    "            \n",
    "            # 应用dropout\n",
    "            return F.dropout(x, p, self.training)\n",
    "        return x\n",
    "\n",
    "# 使用示例\n",
    "learnable_dropout_layer = LearnableDropout()\n"
   ]
  }
 ],
 "metadata": {
  "kernelspec": {
   "display_name": "pt180",
   "language": "python",
   "name": "python3"
  },
  "language_info": {
   "codemirror_mode": {
    "name": "ipython",
    "version": 3
   },
   "file_extension": ".py",
   "mimetype": "text/x-python",
   "name": "python",
   "nbconvert_exporter": "python",
   "pygments_lexer": "ipython3",
   "version": "3.8.13"
  }
 },
 "nbformat": 4,
 "nbformat_minor": 2
}
